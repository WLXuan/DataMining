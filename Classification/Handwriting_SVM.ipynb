{
 "cells": [
  {
   "cell_type": "markdown",
   "source": [
    "1. 读取 MNIST 数据：加载并处理手写数字图像数据及其对应的标签。\n"
   ],
   "metadata": {
    "collapsed": false,
    "pycharm": {
     "name": "#%% md\n"
    }
   }
  },
  {
   "cell_type": "code",
   "source": [
    "import scipy.io\n",
    "\n",
    "mnist = scipy.io.loadmat('./data/mnist-original.mat')\n",
    "\n",
    "X = mnist['data']\n",
    "X = X.transpose(1, 0)\n",
    "y = mnist['label']\n",
    "y = y.transpose(1, 0)\n",
    "\n",
    "print(\"X的内容:\\n\", X)\n",
    "print(\"X的规格:\", X.shape)\n",
    "print()\n",
    "print(\"y的内容:\\n\", y)\n",
    "print(\"y的规格:\", y.shape)"
   ],
   "metadata": {
    "collapsed": false,
    "pycharm": {
     "name": "#%%\n"
    }
   },
   "execution_count": null,
   "outputs": []
  },
  {
   "cell_type": "markdown",
   "source": [
    "2. 划分训练集和测试集：将图像数据划分为训练集和测试集，比例一般为7:3或8:2。\n"
   ],
   "metadata": {
    "collapsed": false,
    "pycharm": {
     "name": "#%% md\n"
    }
   }
  },
  {
   "cell_type": "code",
   "execution_count": 10,
   "outputs": [
    {
     "name": "stdout",
     "output_type": "stream",
     "text": [
      "(56000, 784)\n",
      "(14000, 784)\n",
      "(56000, 1)\n",
      "(14000, 1)\n"
     ]
    }
   ],
   "source": [
    "from sklearn.model_selection import train_test_split\n",
    "X_train,X_test,y_train,y_test = train_test_split(X,y,test_size=0.2)\n",
    "print(X_train.shape)\n",
    "print(X_test.shape)\n",
    "print(y_train.shape)\n",
    "print(y_test.shape)"
   ],
   "metadata": {
    "collapsed": false,
    "pycharm": {
     "name": "#%%\n"
    }
   }
  },
  {
   "cell_type": "markdown",
   "source": [
    "3. 特征缩放：对图像数据进行归一化处理，缩放到[0,1]范围。\n"
   ],
   "metadata": {
    "collapsed": false,
    "pycharm": {
     "name": "#%% md\n"
    }
   }
  },
  {
   "cell_type": "code",
   "source": [
    "import numpy as np\n",
    "# 变换数据的形状并归一化\n",
    "X_train = X_train.reshape(X_train.shape[0], -1)\n",
    "X_train = X_train.astype('float32') / 255\n",
    "\n",
    "X_test = X_test.reshape(X_test.shape[0], -1)\n",
    "X_test = X_test.astype('float32') / 255\n",
    "# 将标签数据转为int32\n",
    "y_train = y_train.astype(np.int32)\n",
    "y_test = y_test.astype(np.int32)\n",
    "y_train = y_train.reshape(-1, 1)\n",
    "y_test = y_test.reshape(-1, 1)"
   ],
   "metadata": {
    "collapsed": false,
    "pycharm": {
     "name": "#%%\n"
    }
   },
   "execution_count": 11,
   "outputs": []
  },
  {
   "cell_type": "markdown",
   "source": [
    "5. 构建支持向量机模型：选择适当的核函数（如线性核、多项式核、径向基核等），训练模型。\n"
   ],
   "metadata": {
    "collapsed": false,
    "pycharm": {
     "name": "#%% md\n"
    }
   }
  },
  {
   "cell_type": "code",
   "execution_count": 12,
   "outputs": [
    {
     "name": "stderr",
     "output_type": "stream",
     "text": [
      "D:\\wlxuan\\Anaconda3\\envs\\DM_ANALYSIS\\lib\\site-packages\\sklearn\\utils\\validation.py:547: DataConversionWarning: A column-vector y was passed when a 1d array was expected. Please change the shape of y to (n_samples, ), for example using ravel().\n",
      "  y = column_or_1d(y, warn=True)\n"
     ]
    },
    {
     "name": "stdout",
     "output_type": "stream",
     "text": [
      "建立的SVM模型为：\n",
      " SVC(C=1.0, cache_size=200, class_weight=None, coef0=0.0,\n",
      "  decision_function_shape='ovr', degree=3, gamma='auto', kernel='rbf',\n",
      "  max_iter=-1, probability=False, random_state=None, shrinking=True,\n",
      "  tol=0.001, verbose=False)\n"
     ]
    }
   ],
   "source": [
    "from sklearn.svm import SVC\n",
    "# 创建svm模型\n",
    "\n",
    "svm = SVC().fit(X_train,y_train)\n",
    "print('建立的SVM模型为：\\n',svm)\n"
   ],
   "metadata": {
    "collapsed": false,
    "pycharm": {
     "name": "#%%\n"
    }
   }
  },
  {
   "cell_type": "markdown",
   "source": [
    "7. 模型评估：在测试集上进行预测，计算模型的准确率、召回率、F 1 值等指标，评估模型性能。"
   ],
   "metadata": {
    "collapsed": false,
    "pycharm": {
     "name": "#%% md\n"
    }
   }
  },
  {
   "cell_type": "code",
   "execution_count": 13,
   "outputs": [
    {
     "name": "stdout",
     "output_type": "stream",
     "text": [
      "预测结果： [5 0 5 ... 1 5 7]\n",
      "acc： 0.9397142857142857\n",
      "召回率： 0.9392567114505885\n",
      "F1： 0.9391590916196304\n"
     ]
    }
   ],
   "source": [
    "from sklearn.metrics import accuracy_score, f1_score, recall_score\n",
    "\n",
    "# 在测试数据进行预测\n",
    "predictions = svm.predict(X_test)\n",
    "print(\"预测结果：\", predictions)\n",
    "\n",
    "# 计算预测指标\n",
    "acc = accuracy_score(y_test,predictions)\n",
    "print(\"acc：\", acc)\n",
    "rec = recall_score(predictions, y_test, average='macro')\n",
    "print(\"召回率：\", rec)\n",
    "f1 = f1_score(predictions, y_test, average='macro')\n",
    "print(\"F1：\", f1)"
   ],
   "metadata": {
    "collapsed": false,
    "pycharm": {
     "name": "#%%\n"
    }
   }
  }
 ],
 "metadata": {
  "kernelspec": {
   "display_name": "Python 3",
   "language": "python",
   "name": "python3"
  },
  "language_info": {
   "codemirror_mode": {
    "name": "ipython",
    "version": 2
   },
   "file_extension": ".py",
   "mimetype": "text/x-python",
   "name": "python",
   "nbconvert_exporter": "python",
   "pygments_lexer": "ipython2",
   "version": "2.7.6"
  }
 },
 "nbformat": 4,
 "nbformat_minor": 0
}