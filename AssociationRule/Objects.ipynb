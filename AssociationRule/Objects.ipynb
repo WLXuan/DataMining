{
 "cells": [
  {
   "cell_type": "markdown",
   "metadata": {
    "collapsed": true,
    "pycharm": {
     "name": "#%% md\n"
    }
   },
   "source": [
    "读取数据集：收集了100个用户和其相关物品的数据集\n"
   ]
  },
  {
   "cell_type": "code",
   "execution_count": 1,
   "metadata": {
    "pycharm": {
     "name": "#%%\n"
    }
   },
   "outputs": [
    {
     "name": "stdout",
     "output_type": "stream",
     "text": [
      "100\n",
      "    ID                                             Basket\n",
      "0    0                          [柑橘类水果, 人造黄油, 即食汤, 半成品面包]\n",
      "1    1                                     [咖啡, 热带水果, 酸奶]\n",
      "2    2                                             [全脂牛奶]\n",
      "3    3                              [奶油乳酪, 肉泥, 仁果类水果, 酸奶]\n",
      "4    4                              [炼乳, 长面包, 其他蔬菜, 全脂牛奶]\n",
      "..  ..                                                ...\n",
      "95  95                                         [葡萄, 相片/膜]\n",
      "96  96  [黑面包, 罐装啤酒, 水果/蔬菜汁, 粉红葡萄酒, 面包卷, 香肠, 购物袋, 切片奶酪,...\n",
      "97  97  [黄油, 鸡, 柑橘类水果, 一般清洁剂, 汉堡肉, 油, 其他蔬菜, 意大利面, 根茎类蔬...\n",
      "98  98                                    [黑面包, 全脂牛奶, 酸奶]\n",
      "99  99                                      [柑橘类水果, 热带水果]\n",
      "\n",
      "[100 rows x 2 columns]\n"
     ]
    }
   ],
   "source": [
    "import pandas as pd\n",
    "order_data = pd.read_csv('data/GoodsOrder.csv', header=0, encoding='gbk')\n",
    "# 转换数据格式\n",
    "order_data['Goods'] = order_data['Goods'].apply(lambda x: \",\" + x)\n",
    "order_data = order_data.groupby('id').sum().reset_index()\n",
    "order_data['Goods'] = order_data['Goods'].apply(lambda x: [x[1:]])\n",
    "order_data_list = list(order_data['Goods'])\n",
    "# print(order_data_list)\n",
    "# 分割商品名为每一个元素\n",
    "data_translation = []\n",
    "for i in order_data_list:\n",
    "    # 列表中元素为1个字符串，所以用0索引\n",
    "    p = i[0].split(\",\")\n",
    "    data_translation.append(p)\n",
    "print(len(data_translation))\n",
    "data = {\n",
    "    'ID': [],\n",
    "    'Basket': []\n",
    "\n",
    "}\n",
    "for i in range(len(data_translation)):\n",
    "    data['ID'].append(i)\n",
    "    data['Basket'].append(data_translation[i])\n",
    "data = pd.DataFrame(data)\n",
    "print(data)"
   ]
  },
  {
   "cell_type": "code",
   "execution_count": 2,
   "metadata": {
    "pycharm": {
     "name": "#%%\n"
    }
   },
   "outputs": [
    {
     "name": "stdout",
     "output_type": "stream",
     "text": [
      "=============================================== ID列 ================================================\n",
      "    ID\n",
      "0    0\n",
      "1    1\n",
      "2    2\n",
      "3    3\n",
      "4    4\n",
      "..  ..\n",
      "95  95\n",
      "96  96\n",
      "97  97\n",
      "98  98\n",
      "99  99\n",
      "\n",
      "[100 rows x 1 columns]\n",
      "============================================= Basket列 ==============================================\n",
      "0                             [柑橘类水果, 人造黄油, 即食汤, 半成品面包]\n",
      "1                                        [咖啡, 热带水果, 酸奶]\n",
      "2                                                [全脂牛奶]\n",
      "3                                 [奶油乳酪, 肉泥, 仁果类水果, 酸奶]\n",
      "4                                 [炼乳, 长面包, 其他蔬菜, 全脂牛奶]\n",
      "                            ...                        \n",
      "95                                           [葡萄, 相片/膜]\n",
      "96    [黑面包, 罐装啤酒, 水果/蔬菜汁, 粉红葡萄酒, 面包卷, 香肠, 购物袋, 切片奶酪,...\n",
      "97    [黄油, 鸡, 柑橘类水果, 一般清洁剂, 汉堡肉, 油, 其他蔬菜, 意大利面, 根茎类蔬...\n",
      "98                                      [黑面包, 全脂牛奶, 酸奶]\n",
      "99                                        [柑橘类水果, 热带水果]\n",
      "Name: Basket, Length: 100, dtype: object\n"
     ]
    },
    {
     "name": "stderr",
     "output_type": "stream",
     "text": [
      "D:\\wlxuan\\Anaconda3\\envs\\Datamining\\lib\\site-packages\\ipykernel_launcher.py:3: FutureWarning: In a future version of pandas all arguments of DataFrame.drop except for the argument 'labels' will be keyword-only\n",
      "  This is separate from the ipykernel package so we can avoid doing imports until\n"
     ]
    }
   ],
   "source": [
    "# 将 Basket 列取出来单独处理，然后再将处理好的数据拼接回去\n",
    "print(\" ID列 \".center(100, '='))\n",
    "data_id = data.drop('Basket', 1)\n",
    "print(data_id)\n",
    "\n",
    "print(\" Basket列 \".center(100, '='))\n",
    "basket = data.Basket\n",
    "print(basket)"
   ]
  },
  {
   "cell_type": "code",
   "execution_count": 3,
   "metadata": {
    "pycharm": {
     "name": "#%%\n"
    }
   },
   "outputs": [
    {
     "name": "stdout",
     "output_type": "stream",
     "text": [
      "======================================== 将列表转化为字符串的Basket列 =========================================\n",
      "0                            柑橘类水果,人造黄油,即食汤,半成品面包\n",
      "1                                      咖啡,热带水果,酸奶\n",
      "2                                            全脂牛奶\n",
      "3                                奶油乳酪,肉泥,仁果类水果,酸奶\n",
      "4                                炼乳,长面包,其他蔬菜,全脂牛奶\n",
      "                         ...                     \n",
      "95                                        葡萄,相片/膜\n",
      "96      黑面包,罐装啤酒,水果/蔬菜汁,粉红葡萄酒,面包卷,香肠,购物袋,切片奶酪,威化饼\n",
      "97    黄油,鸡,柑橘类水果,一般清洁剂,汉堡肉,油,其他蔬菜,意大利面,根茎类蔬菜,热带水果\n",
      "98                                    黑面包,全脂牛奶,酸奶\n",
      "99                                     柑橘类水果,热带水果\n",
      "Name: Basket, Length: 100, dtype: object\n",
      "======================================== 根据Basket列数据转化为数值型 =========================================\n",
      "    一般清洁剂  一般饮料  人造黄油  仁果类水果  全脂牛奶  其他蔬菜  其他饮料  冰淇淋  冷冻土豆制品  冷冻热狗肠  ...  面包卷  \\\n",
      "0       0     0     1      0     0     0     0    0       0      0  ...    0   \n",
      "1       0     0     0      0     0     0     0    0       0      0  ...    0   \n",
      "2       0     0     0      0     1     0     0    0       0      0  ...    0   \n",
      "3       0     0     0      1     0     0     0    0       0      0  ...    0   \n",
      "4       0     0     0      0     1     1     0    0       0      0  ...    0   \n",
      "..    ...   ...   ...    ...   ...   ...   ...  ...     ...    ...  ...  ...   \n",
      "95      0     0     0      0     0     0     0    0       0      0  ...    0   \n",
      "96      0     0     0      0     0     0     0    0       0      0  ...    1   \n",
      "97      1     0     0      0     0     1     0    0       0      0  ...    0   \n",
      "98      0     0     0      0     1     0     0    0       0      0  ...    0   \n",
      "99      0     0     0      0     0     0     0    0       0      0  ...    0   \n",
      "\n",
      "    面包干  面粉  餐巾  香肠  香草  香辛料  鸡  黄油  黑面包  \n",
      "0     0   0   0   0   0    0  0   0    0  \n",
      "1     0   0   0   0   0    0  0   0    0  \n",
      "2     0   0   0   0   0    0  0   0    0  \n",
      "3     0   0   0   0   0    0  0   0    0  \n",
      "4     0   0   0   0   0    0  0   0    0  \n",
      "..  ...  ..  ..  ..  ..  ... ..  ..  ...  \n",
      "95    0   0   0   0   0    0  0   0    0  \n",
      "96    0   0   0   1   0    0  0   0    1  \n",
      "97    0   0   0   0   0    0  1   1    0  \n",
      "98    0   0   0   0   0    0  0   0    1  \n",
      "99    0   0   0   0   0    0  0   0    0  \n",
      "\n",
      "[100 rows x 99 columns]\n",
      "['一般清洁剂', '一般饮料', '人造黄油', '仁果类水果', '全脂牛奶', '其他蔬菜', '其他饮料', '冰淇淋', '冷冻土豆制品', '冷冻热狗肠', '冷冻甜点', '冷冻蔬菜', '冷冻餐饭', '凝乳', '凝乳酪', '切片奶酪', '包装水果/蔬菜', '半成品面包', '卫生用品', '即食汤', '发酵粉', '口香糖', '咖啡', '咸点心', '奶油乳酪', '威化饼', '季节性商品', '巧克力', '巧克力棉花糖', '开胃酒', '意大利面', '报纸', '本地蛋类', '柑橘类水果', '根茎类蔬菜', '水果/蔬菜汁', '水果奶油涂抹酱', '汉堡肉', '油', '洋葱', '浴室清洁剂', '火腿', '火鸡', '炼乳', '热带水果', '牛肉', '特制门锁', '特色巧克力', '特色油脂', '猪肉', '猫食', '瓶装啤酒', '瓶装水', '甜味剂', '甜点', '甜食', '白兰地', '白酒', '白面包', '白饭', '盆栽', '盐', '相片/膜', '硬奶酪', '碗碟', '粉红葡萄酒', '糕点', '糖', '糖果', '罐头蔬菜', '罐头鱼', '罐装啤酒', '肉泥', '腌菜', '腐蚀性清洁剂', '花卉种子', '苏打', '莓果', '葡萄', '蜡烛', '融化奶酪', '谷物', '购物袋', '起泡酒', '超高温杀菌的牛奶', '酪', '酸奶', '酸奶油', '长面包', '面包卷', '面包干', '面粉', '餐巾', '香肠', '香草', '香辛料', '鸡', '黄油', '黑面包']\n",
      "=========================================== 将数值型数据拼接回原数据 ===========================================\n",
      "    ID  一般清洁剂  一般饮料  人造黄油  仁果类水果  全脂牛奶  其他蔬菜  其他饮料  冰淇淋  冷冻土豆制品  ...  面包卷  \\\n",
      "0    0      0     0     1      0     0     0     0    0       0  ...    0   \n",
      "1    1      0     0     0      0     0     0     0    0       0  ...    0   \n",
      "2    2      0     0     0      0     1     0     0    0       0  ...    0   \n",
      "3    3      0     0     0      1     0     0     0    0       0  ...    0   \n",
      "4    4      0     0     0      0     1     1     0    0       0  ...    0   \n",
      "..  ..    ...   ...   ...    ...   ...   ...   ...  ...     ...  ...  ...   \n",
      "95  95      0     0     0      0     0     0     0    0       0  ...    0   \n",
      "96  96      0     0     0      0     0     0     0    0       0  ...    1   \n",
      "97  97      1     0     0      0     0     1     0    0       0  ...    0   \n",
      "98  98      0     0     0      0     1     0     0    0       0  ...    0   \n",
      "99  99      0     0     0      0     0     0     0    0       0  ...    0   \n",
      "\n",
      "    面包干  面粉  餐巾  香肠  香草  香辛料  鸡  黄油  黑面包  \n",
      "0     0   0   0   0   0    0  0   0    0  \n",
      "1     0   0   0   0   0    0  0   0    0  \n",
      "2     0   0   0   0   0    0  0   0    0  \n",
      "3     0   0   0   0   0    0  0   0    0  \n",
      "4     0   0   0   0   0    0  0   0    0  \n",
      "..  ...  ..  ..  ..  ..  ... ..  ..  ...  \n",
      "95    0   0   0   0   0    0  0   0    0  \n",
      "96    0   0   0   1   0    0  0   0    1  \n",
      "97    0   0   0   0   0    0  1   1    0  \n",
      "98    0   0   0   0   0    0  0   0    1  \n",
      "99    0   0   0   0   0    0  0   0    0  \n",
      "\n",
      "[100 rows x 100 columns]\n"
     ]
    }
   ],
   "source": [
    "print(\" 将列表转化为字符串的Basket列 \".center(100, '='))\n",
    "basket = data.Basket.str.join(',')\n",
    "print(basket)\n",
    "\n",
    "print(\" 根据Basket列数据转化为数值型 \".center(100, '='))\n",
    "basket = basket.str.get_dummies(',')\n",
    "print(basket)\n",
    "print(basket.columns.tolist())\n",
    "col = basket.columns.tolist()\n",
    "print(\" 将数值型数据拼接回原数据 \".center(100, '='))\n",
    "data = data_id.join(basket)\n",
    "print(data)"
   ]
  },
  {
   "cell_type": "code",
   "execution_count": 4,
   "metadata": {
    "pycharm": {
     "name": "#%%\n"
    }
   },
   "outputs": [
    {
     "name": "stdout",
     "output_type": "stream",
     "text": [
      "     support                  itemsets\n",
      "0       0.06                   (一般清洁剂)\n",
      "1       0.02                    (一般饮料)\n",
      "2       0.04                    (人造黄油)\n",
      "3       0.02                   (仁果类水果)\n",
      "4       0.25                    (全脂牛奶)\n",
      "..       ...                       ...\n",
      "260     0.02            (购物袋, 香肠, 面包卷)\n",
      "261     0.02      (餐巾, 瓶装水, 面包卷, 卫生用品)\n",
      "262     0.02    (热带水果, 威化饼, 糖果, 根茎类蔬菜)\n",
      "263     0.02  (购物袋, 水果/蔬菜汁, 罐装啤酒, 黑面包)\n",
      "264     0.02      (购物袋, 香肠, 面包卷, 罐装啤酒)\n",
      "\n",
      "[265 rows x 2 columns]\n",
      "     antecedents       consequents  antecedent support  consequent support  \\\n",
      "0        (一般清洁剂)            (其他蔬菜)                0.06                0.17   \n",
      "1         (其他蔬菜)           (一般清洁剂)                0.17                0.06   \n",
      "2        (根茎类蔬菜)           (一般清洁剂)                0.09                0.06   \n",
      "3        (一般清洁剂)           (根茎类蔬菜)                0.06                0.09   \n",
      "4         (热带水果)           (一般清洁剂)                0.12                0.06   \n",
      "..           ...               ...                 ...                 ...   \n",
      "619  (面包卷, 罐装啤酒)         (购物袋, 香肠)                0.02                0.02   \n",
      "620        (购物袋)   (面包卷, 香肠, 罐装啤酒)                0.03                0.02   \n",
      "621         (香肠)  (购物袋, 面包卷, 罐装啤酒)                0.08                0.02   \n",
      "622        (面包卷)   (购物袋, 香肠, 罐装啤酒)                0.21                0.02   \n",
      "623       (罐装啤酒)    (购物袋, 面包卷, 香肠)                0.08                0.02   \n",
      "\n",
      "     support  confidence       lift  leverage  conviction  zhangs_metric  \n",
      "0       0.02    0.333333   1.960784    0.0098    1.245000       0.521277  \n",
      "1       0.02    0.117647   1.960784    0.0098    1.065333       0.590361  \n",
      "2       0.02    0.222222   3.703704    0.0146    1.208571       0.802198  \n",
      "3       0.02    0.333333   3.703704    0.0146    1.365000       0.776596  \n",
      "4       0.02    0.166667   2.777778    0.0128    1.128000       0.727273  \n",
      "..       ...         ...        ...       ...         ...            ...  \n",
      "619     0.02    1.000000  50.000000    0.0196         inf       1.000000  \n",
      "620     0.02    0.666667  33.333333    0.0194    2.940000       1.000000  \n",
      "621     0.02    0.250000  12.500000    0.0184    1.306667       1.000000  \n",
      "622     0.02    0.095238   4.761905    0.0158    1.083158       1.000000  \n",
      "623     0.02    0.250000  12.500000    0.0184    1.306667       1.000000  \n",
      "\n",
      "[624 rows x 10 columns]\n"
     ]
    },
    {
     "name": "stderr",
     "output_type": "stream",
     "text": [
      "D:\\wlxuan\\Anaconda3\\envs\\Datamining\\lib\\site-packages\\mlxtend\\frequent_patterns\\fpcommon.py:114: DeprecationWarning: DataFrames with non-bool types result in worse computationalperformance and their support might be discontinued in the future.Please use a DataFrame with bool type\n",
      "  DeprecationWarning,\n"
     ]
    }
   ],
   "source": [
    "from mlxtend.frequent_patterns import apriori, association_rules\n",
    "# 用标准数据继续关联规则分析的步骤\n",
    "# 利用mlxtend提供的apriori算法函数得到频繁项集\n",
    "frequent_item_sets = apriori(data[col], min_support=0.02,\n",
    "                             use_colnames=True)\n",
    "print(frequent_item_sets)\n",
    "# 计算规则，并设置提升度阈值为 1 （返回的是各个指标的数值，可以按照按兴趣的指标排序观察，但具体解释还得参考实际数据的含义）\n",
    "rules = association_rules(frequent_item_sets, metric='lift', min_threshold=1)\n",
    "print(rules)"
   ]
  }
 ],
 "metadata": {
  "kernelspec": {
   "display_name": "Python 3 (ipykernel)",
   "language": "python",
   "name": "python3"
  },
  "language_info": {
   "codemirror_mode": {
    "name": "ipython",
    "version": 3
   },
   "file_extension": ".py",
   "mimetype": "text/x-python",
   "name": "python",
   "nbconvert_exporter": "python",
   "pygments_lexer": "ipython3",
   "version": "3.7.1"
  }
 },
 "nbformat": 4,
 "nbformat_minor": 1
}