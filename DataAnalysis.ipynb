{
 "cells": [
  {
   "cell_type": "markdown",
   "metadata": {
    "collapsed": true,
    "pycharm": {
     "name": "#%% md\n"
    }
   },
   "source": [
    "数据集：Alzheimer Disease and Healthy Aging Data in US\n",
    "3.1 数据摘要和可视化\n",
    "数据摘要\n",
    "      标称属性，给出每个可能取值的频数\n",
    "      数值属性，给出5数概括及缺失值的个数\n",
    "数据可视化\n",
    "      使用直方图、盒图等检查数据分布及离群点"
   ]
  },
  {
   "cell_type": "code",
   "execution_count": 41,
   "outputs": [
    {
     "name": "stdout",
     "output_type": "stream",
     "text": [
      "214462\n"
     ]
    },
    {
     "name": "stderr",
     "output_type": "stream",
     "text": [
      "D:\\wlxuan\\Anaconda3\\envs\\DM_ANALYSIS\\lib\\site-packages\\IPython\\core\\interactiveshell.py:2698: DtypeWarning: Columns (13,14) have mixed types. Specify dtype option on import or set low_memory=False.\n",
      "  interactivity=interactivity, compiler=compiler, result=result)\n"
     ]
    }
   ],
   "source": [
    "#读取数据\n",
    "import pandas as pd\n",
    "\n",
    "disease_data = pd.read_csv(\"Alzheimer Disease and Healthy Aging Data In US.csv\")\n",
    "#获取数据个数\n",
    "print(len(disease_data))"
   ],
   "metadata": {
    "collapsed": false,
    "pycharm": {
     "name": "#%%\n"
    }
   }
  },
  {
   "cell_type": "code",
   "execution_count": 42,
   "outputs": [
    {
     "data": {
      "text/plain": "   YearStart  YearEnd LocationAbbr LocationDesc Datasource           Class  \\\n0       2020     2020           HI       Hawaii      BRFSS  Overall Health   \n1       2017     2017           ID        Idaho      BRFSS   Mental Health   \n2       2017     2017           ID        Idaho      BRFSS  Overall Health   \n3       2018     2018           ID        Idaho      BRFSS  Overall Health   \n4       2020     2020           IN      Indiana      BRFSS   Mental Health   \n\n                                             Topic  \\\n0                     Arthritis among older adults   \n1                 Lifetime diagnosis of depression   \n2                     Arthritis among older adults   \n3  Physically unhealthy days (mean number of days)   \n4                 Lifetime diagnosis of depression   \n\n                                            Question Data_Value_Unit  \\\n0  Percentage of older adults ever told they have...               %   \n1  Percentage of older adults with a lifetime dia...               %   \n2  Percentage of older adults ever told they have...               %   \n3  Physically unhealthy days (mean number of days...          Number   \n4  Percentage of older adults with a lifetime dia...               %   \n\n  DataValueTypeID        ...        Stratification2  \\\n0           PRCTG        ...                    NaN   \n1           PRCTG        ...                    NaN   \n2           PRCTG        ...                    NaN   \n3            MEAN        ...                    NaN   \n4           PRCTG        ...                   Male   \n\n                        Geolocation  ClassID TopicID QuestionID  LocationID  \\\n0  POINT (-157.8577494 21.30485044)      C01   TOC11        Q43          15   \n1    POINT (-114.36373 43.68263001)      C05   TMC03        Q27          16   \n2    POINT (-114.36373 43.68263001)      C01   TOC11        Q43          16   \n3    POINT (-114.36373 43.68263001)      C01   TOC01        Q08          16   \n4  POINT (-86.14996019 39.76691045)      C05   TMC03        Q27          18   \n\n  StratificationCategoryID1 StratificationID1 StratificationCategoryID2  \\\n0                       AGE              5064                   OVERALL   \n1                       AGE              5064                   OVERALL   \n2                       AGE              5064                   OVERALL   \n3                       AGE              5064                   OVERALL   \n4                       AGE       AGE_OVERALL                    GENDER   \n\n  StratificationID2  \n0           OVERALL  \n1           OVERALL  \n2           OVERALL  \n3           OVERALL  \n4              MALE  \n\n[5 rows x 29 columns]",
      "text/html": "<div>\n<style>\n    .dataframe thead tr:only-child th {\n        text-align: right;\n    }\n\n    .dataframe thead th {\n        text-align: left;\n    }\n\n    .dataframe tbody tr th {\n        vertical-align: top;\n    }\n</style>\n<table border=\"1\" class=\"dataframe\">\n  <thead>\n    <tr style=\"text-align: right;\">\n      <th></th>\n      <th>YearStart</th>\n      <th>YearEnd</th>\n      <th>LocationAbbr</th>\n      <th>LocationDesc</th>\n      <th>Datasource</th>\n      <th>Class</th>\n      <th>Topic</th>\n      <th>Question</th>\n      <th>Data_Value_Unit</th>\n      <th>DataValueTypeID</th>\n      <th>...</th>\n      <th>Stratification2</th>\n      <th>Geolocation</th>\n      <th>ClassID</th>\n      <th>TopicID</th>\n      <th>QuestionID</th>\n      <th>LocationID</th>\n      <th>StratificationCategoryID1</th>\n      <th>StratificationID1</th>\n      <th>StratificationCategoryID2</th>\n      <th>StratificationID2</th>\n    </tr>\n  </thead>\n  <tbody>\n    <tr>\n      <th>0</th>\n      <td>2020</td>\n      <td>2020</td>\n      <td>HI</td>\n      <td>Hawaii</td>\n      <td>BRFSS</td>\n      <td>Overall Health</td>\n      <td>Arthritis among older adults</td>\n      <td>Percentage of older adults ever told they have...</td>\n      <td>%</td>\n      <td>PRCTG</td>\n      <td>...</td>\n      <td>NaN</td>\n      <td>POINT (-157.8577494 21.30485044)</td>\n      <td>C01</td>\n      <td>TOC11</td>\n      <td>Q43</td>\n      <td>15</td>\n      <td>AGE</td>\n      <td>5064</td>\n      <td>OVERALL</td>\n      <td>OVERALL</td>\n    </tr>\n    <tr>\n      <th>1</th>\n      <td>2017</td>\n      <td>2017</td>\n      <td>ID</td>\n      <td>Idaho</td>\n      <td>BRFSS</td>\n      <td>Mental Health</td>\n      <td>Lifetime diagnosis of depression</td>\n      <td>Percentage of older adults with a lifetime dia...</td>\n      <td>%</td>\n      <td>PRCTG</td>\n      <td>...</td>\n      <td>NaN</td>\n      <td>POINT (-114.36373 43.68263001)</td>\n      <td>C05</td>\n      <td>TMC03</td>\n      <td>Q27</td>\n      <td>16</td>\n      <td>AGE</td>\n      <td>5064</td>\n      <td>OVERALL</td>\n      <td>OVERALL</td>\n    </tr>\n    <tr>\n      <th>2</th>\n      <td>2017</td>\n      <td>2017</td>\n      <td>ID</td>\n      <td>Idaho</td>\n      <td>BRFSS</td>\n      <td>Overall Health</td>\n      <td>Arthritis among older adults</td>\n      <td>Percentage of older adults ever told they have...</td>\n      <td>%</td>\n      <td>PRCTG</td>\n      <td>...</td>\n      <td>NaN</td>\n      <td>POINT (-114.36373 43.68263001)</td>\n      <td>C01</td>\n      <td>TOC11</td>\n      <td>Q43</td>\n      <td>16</td>\n      <td>AGE</td>\n      <td>5064</td>\n      <td>OVERALL</td>\n      <td>OVERALL</td>\n    </tr>\n    <tr>\n      <th>3</th>\n      <td>2018</td>\n      <td>2018</td>\n      <td>ID</td>\n      <td>Idaho</td>\n      <td>BRFSS</td>\n      <td>Overall Health</td>\n      <td>Physically unhealthy days (mean number of days)</td>\n      <td>Physically unhealthy days (mean number of days...</td>\n      <td>Number</td>\n      <td>MEAN</td>\n      <td>...</td>\n      <td>NaN</td>\n      <td>POINT (-114.36373 43.68263001)</td>\n      <td>C01</td>\n      <td>TOC01</td>\n      <td>Q08</td>\n      <td>16</td>\n      <td>AGE</td>\n      <td>5064</td>\n      <td>OVERALL</td>\n      <td>OVERALL</td>\n    </tr>\n    <tr>\n      <th>4</th>\n      <td>2020</td>\n      <td>2020</td>\n      <td>IN</td>\n      <td>Indiana</td>\n      <td>BRFSS</td>\n      <td>Mental Health</td>\n      <td>Lifetime diagnosis of depression</td>\n      <td>Percentage of older adults with a lifetime dia...</td>\n      <td>%</td>\n      <td>PRCTG</td>\n      <td>...</td>\n      <td>Male</td>\n      <td>POINT (-86.14996019 39.76691045)</td>\n      <td>C05</td>\n      <td>TMC03</td>\n      <td>Q27</td>\n      <td>18</td>\n      <td>AGE</td>\n      <td>AGE_OVERALL</td>\n      <td>GENDER</td>\n      <td>MALE</td>\n    </tr>\n  </tbody>\n</table>\n<p>5 rows × 29 columns</p>\n</div>"
     },
     "execution_count": 42,
     "metadata": {},
     "output_type": "execute_result"
    }
   ],
   "source": [
    "disease_data.head()"
   ],
   "metadata": {
    "collapsed": false,
    "pycharm": {
     "name": "#%%\n"
    }
   }
  },
  {
   "cell_type": "code",
   "execution_count": 43,
   "outputs": [
    {
     "data": {
      "text/plain": "           YearStart        YearEnd     Data_Value  Data_Value_Alt  \\\ncount  214462.000000  214462.000000  144629.000000   144629.000000   \nmean     2017.378477    2017.634000      37.341956       37.341956   \nstd         1.779822       1.778926      25.183017       25.183017   \nmin      2015.000000    2015.000000       0.000000        0.000000   \n25%      2016.000000    2016.000000      15.300000       15.300000   \n50%      2017.000000    2018.000000      32.500000       32.500000   \n75%      2019.000000    2019.000000      56.800000       56.800000   \nmax      2020.000000    2020.000000     100.000000      100.000000   \n\n       Sample_Size     LocationID  \ncount          0.0  214462.000000  \nmean           NaN     800.987821  \nstd            NaN    2512.934094  \nmin            NaN       1.000000  \n25%            NaN      18.000000  \n50%            NaN      33.000000  \n75%            NaN      49.000000  \nmax            NaN    9004.000000  ",
      "text/html": "<div>\n<style>\n    .dataframe thead tr:only-child th {\n        text-align: right;\n    }\n\n    .dataframe thead th {\n        text-align: left;\n    }\n\n    .dataframe tbody tr th {\n        vertical-align: top;\n    }\n</style>\n<table border=\"1\" class=\"dataframe\">\n  <thead>\n    <tr style=\"text-align: right;\">\n      <th></th>\n      <th>YearStart</th>\n      <th>YearEnd</th>\n      <th>Data_Value</th>\n      <th>Data_Value_Alt</th>\n      <th>Sample_Size</th>\n      <th>LocationID</th>\n    </tr>\n  </thead>\n  <tbody>\n    <tr>\n      <th>count</th>\n      <td>214462.000000</td>\n      <td>214462.000000</td>\n      <td>144629.000000</td>\n      <td>144629.000000</td>\n      <td>0.0</td>\n      <td>214462.000000</td>\n    </tr>\n    <tr>\n      <th>mean</th>\n      <td>2017.378477</td>\n      <td>2017.634000</td>\n      <td>37.341956</td>\n      <td>37.341956</td>\n      <td>NaN</td>\n      <td>800.987821</td>\n    </tr>\n    <tr>\n      <th>std</th>\n      <td>1.779822</td>\n      <td>1.778926</td>\n      <td>25.183017</td>\n      <td>25.183017</td>\n      <td>NaN</td>\n      <td>2512.934094</td>\n    </tr>\n    <tr>\n      <th>min</th>\n      <td>2015.000000</td>\n      <td>2015.000000</td>\n      <td>0.000000</td>\n      <td>0.000000</td>\n      <td>NaN</td>\n      <td>1.000000</td>\n    </tr>\n    <tr>\n      <th>25%</th>\n      <td>2016.000000</td>\n      <td>2016.000000</td>\n      <td>15.300000</td>\n      <td>15.300000</td>\n      <td>NaN</td>\n      <td>18.000000</td>\n    </tr>\n    <tr>\n      <th>50%</th>\n      <td>2017.000000</td>\n      <td>2018.000000</td>\n      <td>32.500000</td>\n      <td>32.500000</td>\n      <td>NaN</td>\n      <td>33.000000</td>\n    </tr>\n    <tr>\n      <th>75%</th>\n      <td>2019.000000</td>\n      <td>2019.000000</td>\n      <td>56.800000</td>\n      <td>56.800000</td>\n      <td>NaN</td>\n      <td>49.000000</td>\n    </tr>\n    <tr>\n      <th>max</th>\n      <td>2020.000000</td>\n      <td>2020.000000</td>\n      <td>100.000000</td>\n      <td>100.000000</td>\n      <td>NaN</td>\n      <td>9004.000000</td>\n    </tr>\n  </tbody>\n</table>\n</div>"
     },
     "execution_count": 43,
     "metadata": {},
     "output_type": "execute_result"
    }
   ],
   "source": [
    "disease_data.describe()"
   ],
   "metadata": {
    "collapsed": false,
    "pycharm": {
     "name": "#%%\n"
    }
   }
  },
  {
   "cell_type": "code",
   "execution_count": 44,
   "outputs": [
    {
     "name": "stdout",
     "output_type": "stream",
     "text": [
      "<class 'pandas.core.frame.DataFrame'>\n",
      "RangeIndex: 214462 entries, 0 to 214461\n",
      "Data columns (total 29 columns):\n",
      "YearStart                    214462 non-null int64\n",
      "YearEnd                      214462 non-null int64\n",
      "LocationAbbr                 214462 non-null object\n",
      "LocationDesc                 214462 non-null object\n",
      "Datasource                   214462 non-null object\n",
      "Class                        214462 non-null object\n",
      "Topic                        214462 non-null object\n",
      "Question                     214462 non-null object\n",
      "Data_Value_Unit              214462 non-null object\n",
      "DataValueTypeID              214462 non-null object\n",
      "Data_Value_Type              214462 non-null object\n",
      "Data_Value                   144629 non-null float64\n",
      "Data_Value_Alt               144629 non-null float64\n",
      "Low_Confidence_Limit         144472 non-null object\n",
      "High_Confidence_Limit        144472 non-null object\n",
      "Sample_Size                  0 non-null float64\n",
      "StratificationCategory1      214462 non-null object\n",
      "Stratification1              214462 non-null object\n",
      "StratificationCategory2      186793 non-null object\n",
      "Stratification2              186793 non-null object\n",
      "Geolocation                  191413 non-null object\n",
      "ClassID                      214462 non-null object\n",
      "TopicID                      214462 non-null object\n",
      "QuestionID                   214462 non-null object\n",
      "LocationID                   214462 non-null int64\n",
      "StratificationCategoryID1    214462 non-null object\n",
      "StratificationID1            214462 non-null object\n",
      "StratificationCategoryID2    214462 non-null object\n",
      "StratificationID2            214462 non-null object\n",
      "dtypes: float64(3), int64(3), object(23)\n",
      "memory usage: 47.5+ MB\n"
     ]
    }
   ],
   "source": [
    "disease_data.info()"
   ],
   "metadata": {
    "collapsed": false,
    "pycharm": {
     "name": "#%%\n"
    }
   }
  },
  {
   "cell_type": "code",
   "execution_count": 45,
   "outputs": [
    {
     "data": {
      "text/plain": "                            count  missing_rate  nunique  lost_count\nYearStart                  214462      0.000000        6           0\nYearEnd                    214462      0.000000        6           0\nLocationAbbr               214462      0.000000       59           0\nLocationDesc               214462      0.000000       59           0\nDatasource                 214462      0.000000        1           0\nClass                      214462      0.000000        7           0\nTopic                      214462      0.000000       39           0\nQuestion                   214462      0.000000       39           0\nData_Value_Unit            214462      0.000000        2           0\nDataValueTypeID            214462      0.000000        2           0\nData_Value_Type            214462      0.000000        2           0\nData_Value                 144629      0.325619      999       69833\nData_Value_Alt             144629      0.325619      999       69833\nLow_Confidence_Limit       144472      0.326352     1967       69990\nHigh_Confidence_Limit      144472      0.326352     1966       69990\nSample_Size                     0      1.000000        0      214462\nStratificationCategory1    214462      0.000000        1           0\nStratification1            214462      0.000000        3           0\nStratificationCategory2    186793      0.129016        2       27669\nStratification2            186793      0.129016        7       27669\nGeolocation                191413      0.107474       54       23049\nClassID                    214462      0.000000        7           0\nTopicID                    214462      0.000000       39           0\nQuestionID                 214462      0.000000       39           0\nLocationID                 214462      0.000000       59           0\nStratificationCategoryID1  214462      0.000000        1           0\nStratificationID1          214462      0.000000        3           0\nStratificationCategoryID2  214462      0.000000        3           0\nStratificationID2          214462      0.000000        8           0",
      "text/html": "<div>\n<style>\n    .dataframe thead tr:only-child th {\n        text-align: right;\n    }\n\n    .dataframe thead th {\n        text-align: left;\n    }\n\n    .dataframe tbody tr th {\n        vertical-align: top;\n    }\n</style>\n<table border=\"1\" class=\"dataframe\">\n  <thead>\n    <tr style=\"text-align: right;\">\n      <th></th>\n      <th>count</th>\n      <th>missing_rate</th>\n      <th>nunique</th>\n      <th>lost_count</th>\n    </tr>\n  </thead>\n  <tbody>\n    <tr>\n      <th>YearStart</th>\n      <td>214462</td>\n      <td>0.000000</td>\n      <td>6</td>\n      <td>0</td>\n    </tr>\n    <tr>\n      <th>YearEnd</th>\n      <td>214462</td>\n      <td>0.000000</td>\n      <td>6</td>\n      <td>0</td>\n    </tr>\n    <tr>\n      <th>LocationAbbr</th>\n      <td>214462</td>\n      <td>0.000000</td>\n      <td>59</td>\n      <td>0</td>\n    </tr>\n    <tr>\n      <th>LocationDesc</th>\n      <td>214462</td>\n      <td>0.000000</td>\n      <td>59</td>\n      <td>0</td>\n    </tr>\n    <tr>\n      <th>Datasource</th>\n      <td>214462</td>\n      <td>0.000000</td>\n      <td>1</td>\n      <td>0</td>\n    </tr>\n    <tr>\n      <th>Class</th>\n      <td>214462</td>\n      <td>0.000000</td>\n      <td>7</td>\n      <td>0</td>\n    </tr>\n    <tr>\n      <th>Topic</th>\n      <td>214462</td>\n      <td>0.000000</td>\n      <td>39</td>\n      <td>0</td>\n    </tr>\n    <tr>\n      <th>Question</th>\n      <td>214462</td>\n      <td>0.000000</td>\n      <td>39</td>\n      <td>0</td>\n    </tr>\n    <tr>\n      <th>Data_Value_Unit</th>\n      <td>214462</td>\n      <td>0.000000</td>\n      <td>2</td>\n      <td>0</td>\n    </tr>\n    <tr>\n      <th>DataValueTypeID</th>\n      <td>214462</td>\n      <td>0.000000</td>\n      <td>2</td>\n      <td>0</td>\n    </tr>\n    <tr>\n      <th>Data_Value_Type</th>\n      <td>214462</td>\n      <td>0.000000</td>\n      <td>2</td>\n      <td>0</td>\n    </tr>\n    <tr>\n      <th>Data_Value</th>\n      <td>144629</td>\n      <td>0.325619</td>\n      <td>999</td>\n      <td>69833</td>\n    </tr>\n    <tr>\n      <th>Data_Value_Alt</th>\n      <td>144629</td>\n      <td>0.325619</td>\n      <td>999</td>\n      <td>69833</td>\n    </tr>\n    <tr>\n      <th>Low_Confidence_Limit</th>\n      <td>144472</td>\n      <td>0.326352</td>\n      <td>1967</td>\n      <td>69990</td>\n    </tr>\n    <tr>\n      <th>High_Confidence_Limit</th>\n      <td>144472</td>\n      <td>0.326352</td>\n      <td>1966</td>\n      <td>69990</td>\n    </tr>\n    <tr>\n      <th>Sample_Size</th>\n      <td>0</td>\n      <td>1.000000</td>\n      <td>0</td>\n      <td>214462</td>\n    </tr>\n    <tr>\n      <th>StratificationCategory1</th>\n      <td>214462</td>\n      <td>0.000000</td>\n      <td>1</td>\n      <td>0</td>\n    </tr>\n    <tr>\n      <th>Stratification1</th>\n      <td>214462</td>\n      <td>0.000000</td>\n      <td>3</td>\n      <td>0</td>\n    </tr>\n    <tr>\n      <th>StratificationCategory2</th>\n      <td>186793</td>\n      <td>0.129016</td>\n      <td>2</td>\n      <td>27669</td>\n    </tr>\n    <tr>\n      <th>Stratification2</th>\n      <td>186793</td>\n      <td>0.129016</td>\n      <td>7</td>\n      <td>27669</td>\n    </tr>\n    <tr>\n      <th>Geolocation</th>\n      <td>191413</td>\n      <td>0.107474</td>\n      <td>54</td>\n      <td>23049</td>\n    </tr>\n    <tr>\n      <th>ClassID</th>\n      <td>214462</td>\n      <td>0.000000</td>\n      <td>7</td>\n      <td>0</td>\n    </tr>\n    <tr>\n      <th>TopicID</th>\n      <td>214462</td>\n      <td>0.000000</td>\n      <td>39</td>\n      <td>0</td>\n    </tr>\n    <tr>\n      <th>QuestionID</th>\n      <td>214462</td>\n      <td>0.000000</td>\n      <td>39</td>\n      <td>0</td>\n    </tr>\n    <tr>\n      <th>LocationID</th>\n      <td>214462</td>\n      <td>0.000000</td>\n      <td>59</td>\n      <td>0</td>\n    </tr>\n    <tr>\n      <th>StratificationCategoryID1</th>\n      <td>214462</td>\n      <td>0.000000</td>\n      <td>1</td>\n      <td>0</td>\n    </tr>\n    <tr>\n      <th>StratificationID1</th>\n      <td>214462</td>\n      <td>0.000000</td>\n      <td>3</td>\n      <td>0</td>\n    </tr>\n    <tr>\n      <th>StratificationCategoryID2</th>\n      <td>214462</td>\n      <td>0.000000</td>\n      <td>3</td>\n      <td>0</td>\n    </tr>\n    <tr>\n      <th>StratificationID2</th>\n      <td>214462</td>\n      <td>0.000000</td>\n      <td>8</td>\n      <td>0</td>\n    </tr>\n  </tbody>\n</table>\n</div>"
     },
     "execution_count": 45,
     "metadata": {},
     "output_type": "execute_result"
    }
   ],
   "source": [
    "disease_col = ['YearStart', 'YearEnd', 'LocationAbbr', 'LocationDesc', 'Datasource', 'Class', 'Topic', 'Question', 'Data_Value_Unit', 'DataValueTypeID', 'Data_Value_Type', 'Data_Value', 'Data_Value_Alt', 'Low_Confidence_Limit', 'High_Confidence_Limit', 'Sample_Size', 'StratificationCategory1', 'Stratification1', 'StratificationCategory2', 'Stratification2', 'Geolocation', 'ClassID', 'TopicID', 'QuestionID', 'LocationID', 'StratificationCategoryID1', 'StratificationID1', 'StratificationCategoryID2', 'StratificationID2']\n",
    "temp = pd.DataFrame()\n",
    "temp['count'] = disease_data[disease_col].count().values\n",
    "temp['missing_rate'] = (disease_data.shape[0] - temp['count']) / disease_data.shape[0]\n",
    "temp['nunique'] = disease_data[disease_col].nunique().values\n",
    "temp['lost_count'] = len(disease_data) - disease_data[disease_col].count().values\n",
    "temp.index = disease_col\n",
    "temp"
   ],
   "metadata": {
    "collapsed": false,
    "pycharm": {
     "name": "#%%\n"
    }
   }
  },
  {
   "cell_type": "markdown",
   "source": [
    "数据可视化\n",
    "      使用直方图、盒图等检查数据分布及离群点"
   ],
   "metadata": {
    "collapsed": false,
    "pycharm": {
     "name": "#%% md\n"
    }
   }
  },
  {
   "cell_type": "code",
   "execution_count": 48,
   "outputs": [
    {
     "data": {
      "text/plain": "<Figure size 432x288 with 1 Axes>",
      "image/png": "[encoded data removed]"
     },
     "metadata": {},
     "output_type": "display_data"
    }
   ],
   "source": [
    "import matplotlib.pyplot as plt\n",
    "data_value = pd.DataFrame(disease_data['Data_Value'])  # 读取数据\n",
    "data_value.plot.box(title=\"Data_Value Box\")  # 设置标题\n",
    "\n",
    "plt.grid(linestyle=\"--\", alpha=0.3)  # 绘制箱型图\n",
    "plt.show()"
   ],
   "metadata": {
    "collapsed": false,
    "pycharm": {
     "name": "#%%\n"
    }
   }
  },
  {
   "cell_type": "markdown",
   "source": [
    "3.2 数据缺失的处理\n",
    "观察数据集中缺失数据，分析其缺失的原因。分别使用下列四种策略对缺失值进行处理:\n",
    "\n",
    "将缺失部分剔除\n",
    "用最高频率值来填补缺失值\n",
    "通过属性的相关关系来填补缺失值\n",
    "通过数据对象之间的相似性来填补缺失值"
   ],
   "metadata": {
    "collapsed": false,
    "pycharm": {
     "name": "#%% md\n"
    }
   }
  },
  {
   "cell_type": "code",
   "execution_count": 54,
   "outputs": [
    {
     "data": {
      "text/plain": "(144629, 214462)"
     },
     "execution_count": 54,
     "metadata": {},
     "output_type": "execute_result"
    }
   ],
   "source": [
    "# 将有缺失值的数据直接删除，会导致数据量骤减\n",
    "disease_data_drop = disease_data['Data_Value'].dropna()\n",
    "len(disease_data_drop), len(disease_data)"
   ],
   "metadata": {
    "collapsed": false,
    "pycharm": {
     "name": "#%%\n"
    }
   }
  },
  {
   "cell_type": "code",
   "execution_count": 57,
   "outputs": [
    {
     "data": {
      "text/plain": "214462"
     },
     "execution_count": 57,
     "metadata": {},
     "output_type": "execute_result"
    }
   ],
   "source": [
    "# 用最高频率值来填补缺失值\n",
    "disease_data['Data_Value'] = disease_data['Data_Value'].fillna(disease_data['Data_Value'].mode())\n",
    "len(disease_data)"
   ],
   "metadata": {
    "collapsed": false,
    "pycharm": {
     "name": "#%%\n"
    }
   }
  },
  {
   "cell_type": "code",
   "execution_count": 62,
   "outputs": [
    {
     "ename": "ValueError",
     "evalue": "Input contains NaN, infinity or a value too large for dtype('float32').",
     "output_type": "error",
     "traceback": [
      "\u001B[1;31m---------------------------------------------------------------------------\u001B[0m",
      "\u001B[1;31mValueError\u001B[0m                                Traceback (most recent call last)",
      "\u001B[1;32m<ipython-input-62-9ae0f67fe32c>\u001B[0m in \u001B[0;36m<module>\u001B[1;34m()\u001B[0m\n\u001B[0;32m      8\u001B[0m \u001B[1;31m# 使用决策树进行拟合\u001B[0m\u001B[1;33m\u001B[0m\u001B[1;33m\u001B[0m\u001B[1;33m\u001B[0m\u001B[0m\n\u001B[0;32m      9\u001B[0m \u001B[0mclf\u001B[0m \u001B[1;33m=\u001B[0m \u001B[0mDecisionTreeClassifier\u001B[0m\u001B[1;33m(\u001B[0m\u001B[1;33m)\u001B[0m\u001B[1;33m\u001B[0m\u001B[1;33m\u001B[0m\u001B[0m\n\u001B[1;32m---> 10\u001B[1;33m \u001B[0mclf\u001B[0m\u001B[1;33m.\u001B[0m\u001B[0mfit\u001B[0m\u001B[1;33m(\u001B[0m\u001B[0mdata_train_x\u001B[0m\u001B[1;33m,\u001B[0m \u001B[0mdata_train_y\u001B[0m\u001B[1;33m)\u001B[0m\u001B[1;33m\u001B[0m\u001B[1;33m\u001B[0m\u001B[0m\n\u001B[0m\u001B[0;32m     11\u001B[0m \u001B[1;31m# 使用分类结果进行填充\u001B[0m\u001B[1;33m\u001B[0m\u001B[1;33m\u001B[0m\u001B[1;33m\u001B[0m\u001B[0m\n\u001B[0;32m     12\u001B[0m \u001B[0mdisease_data\u001B[0m\u001B[1;33m[\u001B[0m\u001B[1;34m'Data_Value'\u001B[0m\u001B[1;33m]\u001B[0m \u001B[1;33m=\u001B[0m \u001B[0mclf\u001B[0m\u001B[1;33m.\u001B[0m\u001B[0mpredict\u001B[0m\u001B[1;33m(\u001B[0m\u001B[0mpd\u001B[0m\u001B[1;33m.\u001B[0m\u001B[0mDataFrame\u001B[0m\u001B[1;33m(\u001B[0m\u001B[0mdisease_data\u001B[0m\u001B[1;33m[\u001B[0m\u001B[1;34m'Data_Value'\u001B[0m\u001B[1;33m]\u001B[0m\u001B[1;33m)\u001B[0m\u001B[1;33m)\u001B[0m\u001B[1;33m[\u001B[0m\u001B[1;36m0\u001B[0m\u001B[1;33m]\u001B[0m\u001B[1;33m\u001B[0m\u001B[1;33m\u001B[0m\u001B[0m\n",
      "\u001B[1;32mD:\\wlxuan\\Anaconda3\\envs\\DM_ANALYSIS\\lib\\site-packages\\sklearn\\tree\\tree.py\u001B[0m in \u001B[0;36mfit\u001B[1;34m(self, X, y, sample_weight, check_input, X_idx_sorted)\u001B[0m\n\u001B[0;32m    788\u001B[0m             \u001B[0msample_weight\u001B[0m\u001B[1;33m=\u001B[0m\u001B[0msample_weight\u001B[0m\u001B[1;33m,\u001B[0m\u001B[1;33m\u001B[0m\u001B[1;33m\u001B[0m\u001B[0m\n\u001B[0;32m    789\u001B[0m             \u001B[0mcheck_input\u001B[0m\u001B[1;33m=\u001B[0m\u001B[0mcheck_input\u001B[0m\u001B[1;33m,\u001B[0m\u001B[1;33m\u001B[0m\u001B[1;33m\u001B[0m\u001B[0m\n\u001B[1;32m--> 790\u001B[1;33m             X_idx_sorted=X_idx_sorted)\n\u001B[0m\u001B[0;32m    791\u001B[0m         \u001B[1;32mreturn\u001B[0m \u001B[0mself\u001B[0m\u001B[1;33m\u001B[0m\u001B[1;33m\u001B[0m\u001B[0m\n\u001B[0;32m    792\u001B[0m \u001B[1;33m\u001B[0m\u001B[0m\n",
      "\u001B[1;32mD:\\wlxuan\\Anaconda3\\envs\\DM_ANALYSIS\\lib\\site-packages\\sklearn\\tree\\tree.py\u001B[0m in \u001B[0;36mfit\u001B[1;34m(self, X, y, sample_weight, check_input, X_idx_sorted)\u001B[0m\n\u001B[0;32m    114\u001B[0m         \u001B[0mrandom_state\u001B[0m \u001B[1;33m=\u001B[0m \u001B[0mcheck_random_state\u001B[0m\u001B[1;33m(\u001B[0m\u001B[0mself\u001B[0m\u001B[1;33m.\u001B[0m\u001B[0mrandom_state\u001B[0m\u001B[1;33m)\u001B[0m\u001B[1;33m\u001B[0m\u001B[1;33m\u001B[0m\u001B[0m\n\u001B[0;32m    115\u001B[0m         \u001B[1;32mif\u001B[0m \u001B[0mcheck_input\u001B[0m\u001B[1;33m:\u001B[0m\u001B[1;33m\u001B[0m\u001B[1;33m\u001B[0m\u001B[0m\n\u001B[1;32m--> 116\u001B[1;33m             \u001B[0mX\u001B[0m \u001B[1;33m=\u001B[0m \u001B[0mcheck_array\u001B[0m\u001B[1;33m(\u001B[0m\u001B[0mX\u001B[0m\u001B[1;33m,\u001B[0m \u001B[0mdtype\u001B[0m\u001B[1;33m=\u001B[0m\u001B[0mDTYPE\u001B[0m\u001B[1;33m,\u001B[0m \u001B[0maccept_sparse\u001B[0m\u001B[1;33m=\u001B[0m\u001B[1;34m\"csc\"\u001B[0m\u001B[1;33m)\u001B[0m\u001B[1;33m\u001B[0m\u001B[1;33m\u001B[0m\u001B[0m\n\u001B[0m\u001B[0;32m    117\u001B[0m             \u001B[0my\u001B[0m \u001B[1;33m=\u001B[0m \u001B[0mcheck_array\u001B[0m\u001B[1;33m(\u001B[0m\u001B[0my\u001B[0m\u001B[1;33m,\u001B[0m \u001B[0mensure_2d\u001B[0m\u001B[1;33m=\u001B[0m\u001B[1;32mFalse\u001B[0m\u001B[1;33m,\u001B[0m \u001B[0mdtype\u001B[0m\u001B[1;33m=\u001B[0m\u001B[1;32mNone\u001B[0m\u001B[1;33m)\u001B[0m\u001B[1;33m\u001B[0m\u001B[1;33m\u001B[0m\u001B[0m\n\u001B[0;32m    118\u001B[0m             \u001B[1;32mif\u001B[0m \u001B[0missparse\u001B[0m\u001B[1;33m(\u001B[0m\u001B[0mX\u001B[0m\u001B[1;33m)\u001B[0m\u001B[1;33m:\u001B[0m\u001B[1;33m\u001B[0m\u001B[1;33m\u001B[0m\u001B[0m\n",
      "\u001B[1;32mD:\\wlxuan\\Anaconda3\\envs\\DM_ANALYSIS\\lib\\site-packages\\sklearn\\utils\\validation.py\u001B[0m in \u001B[0;36mcheck_array\u001B[1;34m(array, accept_sparse, dtype, order, copy, force_all_finite, ensure_2d, allow_nd, ensure_min_samples, ensure_min_features, warn_on_dtype, estimator)\u001B[0m\n\u001B[0;32m    420\u001B[0m                              % (array.ndim, estimator_name))\n\u001B[0;32m    421\u001B[0m         \u001B[1;32mif\u001B[0m \u001B[0mforce_all_finite\u001B[0m\u001B[1;33m:\u001B[0m\u001B[1;33m\u001B[0m\u001B[1;33m\u001B[0m\u001B[0m\n\u001B[1;32m--> 422\u001B[1;33m             \u001B[0m_assert_all_finite\u001B[0m\u001B[1;33m(\u001B[0m\u001B[0marray\u001B[0m\u001B[1;33m)\u001B[0m\u001B[1;33m\u001B[0m\u001B[1;33m\u001B[0m\u001B[0m\n\u001B[0m\u001B[0;32m    423\u001B[0m \u001B[1;33m\u001B[0m\u001B[0m\n\u001B[0;32m    424\u001B[0m     \u001B[0mshape_repr\u001B[0m \u001B[1;33m=\u001B[0m \u001B[0m_shape_repr\u001B[0m\u001B[1;33m(\u001B[0m\u001B[0marray\u001B[0m\u001B[1;33m.\u001B[0m\u001B[0mshape\u001B[0m\u001B[1;33m)\u001B[0m\u001B[1;33m\u001B[0m\u001B[1;33m\u001B[0m\u001B[0m\n",
      "\u001B[1;32mD:\\wlxuan\\Anaconda3\\envs\\DM_ANALYSIS\\lib\\site-packages\\sklearn\\utils\\validation.py\u001B[0m in \u001B[0;36m_assert_all_finite\u001B[1;34m(X)\u001B[0m\n\u001B[0;32m     41\u001B[0m             and not np.isfinite(X).all()):\n\u001B[0;32m     42\u001B[0m         raise ValueError(\"Input contains NaN, infinity\"\n\u001B[1;32m---> 43\u001B[1;33m                          \" or a value too large for %r.\" % X.dtype)\n\u001B[0m\u001B[0;32m     44\u001B[0m \u001B[1;33m\u001B[0m\u001B[0m\n\u001B[0;32m     45\u001B[0m \u001B[1;33m\u001B[0m\u001B[0m\n",
      "\u001B[1;31mValueError\u001B[0m: Input contains NaN, infinity or a value too large for dtype('float32')."
     ]
    }
   ],
   "source": [
    "from sklearn.tree import DecisionTreeClassifier\n",
    "\n",
    "# 获取数据\n",
    "\n",
    "data_train_x = disease_data[['Data_Value_Alt']]\n",
    "data_train_y = disease_data['Data_Value']\n",
    "# 使用决策树进行拟合\n",
    "clf = DecisionTreeClassifier()\n",
    "clf.fit(data_train_x, data_train_y)\n",
    "# 使用分类结果进行填充\n",
    "disease_data['Data_Value'] = clf.predict(pd.DataFrame(disease_data['Data_Value']))[0]\n",
    "\n"
   ],
   "metadata": {
    "collapsed": false,
    "pycharm": {
     "name": "#%%\n"
    }
   }
  },
  {
   "cell_type": "markdown",
   "source": [
    "数据集：Movies Dataset from Pirated Sites\n",
    "3.1 数据摘要和可视化\n",
    "数据摘要\n",
    "      标称属性，给出每个可能取值的频数\n",
    "      数值属性，给出5数概括及缺失值的个数\n"
   ],
   "metadata": {
    "collapsed": false,
    "pycharm": {
     "name": "#%% md\n"
    }
   }
  },
  {
   "cell_type": "code",
   "execution_count": 24,
   "outputs": [
    {
     "name": "stdout",
     "output_type": "stream",
     "text": [
      "20548\n"
     ]
    }
   ],
   "source": [
    "\n",
    "movie_data = pd.read_csv(\"movies_dataset.csv\")\n",
    "#获取数据个数\n",
    "print(len(movie_data))"
   ],
   "metadata": {
    "collapsed": false,
    "pycharm": {
     "name": "#%%\n"
    }
   }
  },
  {
   "cell_type": "code",
   "execution_count": 25,
   "outputs": [
    {
     "data": {
      "text/plain": "   Unnamed: 0  IMDb-rating appropriate_for      director downloads      id  \\\n0           0          4.8               R     John Swab       304  372092   \n1           1          6.4           TV-PG   Paul Ziller        73  372091   \n2           2          5.2               R  Ben Wheatley     1,427  343381   \n3           3          8.1             NaN  Venky Atluri     1,549  372090   \n4           4          4.6             NaN  Shaji Kailas       657  372089   \n\n              industry       language   posted_date release_date  run_time  \\\n0  Hollywood / English        English  20 Feb, 2023  Jan 28 2023       105   \n1  Hollywood / English        English  20 Feb, 2023  Feb 05 2023        84   \n2  Hollywood / English  English,Hindi  20 Apr, 2021  Jun 18 2021  1h 47min   \n3            Tollywood          Hindi  20 Feb, 2023  Feb 17 2023       139   \n4            Tollywood          Hindi  20 Feb, 2023  Jan 26 2023       122   \n\n                                           storyline  \\\n0  Doc\\r\\n facilitates a fragile truce between th...   \n1  Caterer\\r\\n Goldy Berry reunites with detectiv...   \n2  As the world searches for a cure to a disastro...   \n3  The life of a young man and his struggles agai...   \n4  A man named Kalidas gets stranded due to the p...   \n\n                                        title   views                  writer  \n0                                Little Dixie   2,794               John Swab  \n1  Grilling Season: A Curious Caterer Mystery   1,002  John Christian Plummer  \n2                                In the Earth  14,419            Ben Wheatley  \n3                                      Vaathi   4,878            Venky Atluri  \n4                                       Alone   2,438        Rajesh Jayaraman  ",
      "text/html": "<div>\n<style>\n    .dataframe thead tr:only-child th {\n        text-align: right;\n    }\n\n    .dataframe thead th {\n        text-align: left;\n    }\n\n    .dataframe tbody tr th {\n        vertical-align: top;\n    }\n</style>\n<table border=\"1\" class=\"dataframe\">\n  <thead>\n    <tr style=\"text-align: right;\">\n      <th></th>\n      <th>Unnamed: 0</th>\n      <th>IMDb-rating</th>\n      <th>appropriate_for</th>\n      <th>director</th>\n      <th>downloads</th>\n      <th>id</th>\n      <th>industry</th>\n      <th>language</th>\n      <th>posted_date</th>\n      <th>release_date</th>\n      <th>run_time</th>\n      <th>storyline</th>\n      <th>title</th>\n      <th>views</th>\n      <th>writer</th>\n    </tr>\n  </thead>\n  <tbody>\n    <tr>\n      <th>0</th>\n      <td>0</td>\n      <td>4.8</td>\n      <td>R</td>\n      <td>John Swab</td>\n      <td>304</td>\n      <td>372092</td>\n      <td>Hollywood / English</td>\n      <td>English</td>\n      <td>20 Feb, 2023</td>\n      <td>Jan 28 2023</td>\n      <td>105</td>\n      <td>Doc\\r\\n facilitates a fragile truce between th...</td>\n      <td>Little Dixie</td>\n      <td>2,794</td>\n      <td>John Swab</td>\n    </tr>\n    <tr>\n      <th>1</th>\n      <td>1</td>\n      <td>6.4</td>\n      <td>TV-PG</td>\n      <td>Paul Ziller</td>\n      <td>73</td>\n      <td>372091</td>\n      <td>Hollywood / English</td>\n      <td>English</td>\n      <td>20 Feb, 2023</td>\n      <td>Feb 05 2023</td>\n      <td>84</td>\n      <td>Caterer\\r\\n Goldy Berry reunites with detectiv...</td>\n      <td>Grilling Season: A Curious Caterer Mystery</td>\n      <td>1,002</td>\n      <td>John Christian Plummer</td>\n    </tr>\n    <tr>\n      <th>2</th>\n      <td>2</td>\n      <td>5.2</td>\n      <td>R</td>\n      <td>Ben Wheatley</td>\n      <td>1,427</td>\n      <td>343381</td>\n      <td>Hollywood / English</td>\n      <td>English,Hindi</td>\n      <td>20 Apr, 2021</td>\n      <td>Jun 18 2021</td>\n      <td>1h 47min</td>\n      <td>As the world searches for a cure to a disastro...</td>\n      <td>In the Earth</td>\n      <td>14,419</td>\n      <td>Ben Wheatley</td>\n    </tr>\n    <tr>\n      <th>3</th>\n      <td>3</td>\n      <td>8.1</td>\n      <td>NaN</td>\n      <td>Venky Atluri</td>\n      <td>1,549</td>\n      <td>372090</td>\n      <td>Tollywood</td>\n      <td>Hindi</td>\n      <td>20 Feb, 2023</td>\n      <td>Feb 17 2023</td>\n      <td>139</td>\n      <td>The life of a young man and his struggles agai...</td>\n      <td>Vaathi</td>\n      <td>4,878</td>\n      <td>Venky Atluri</td>\n    </tr>\n    <tr>\n      <th>4</th>\n      <td>4</td>\n      <td>4.6</td>\n      <td>NaN</td>\n      <td>Shaji Kailas</td>\n      <td>657</td>\n      <td>372089</td>\n      <td>Tollywood</td>\n      <td>Hindi</td>\n      <td>20 Feb, 2023</td>\n      <td>Jan 26 2023</td>\n      <td>122</td>\n      <td>A man named Kalidas gets stranded due to the p...</td>\n      <td>Alone</td>\n      <td>2,438</td>\n      <td>Rajesh Jayaraman</td>\n    </tr>\n  </tbody>\n</table>\n</div>"
     },
     "execution_count": 25,
     "metadata": {},
     "output_type": "execute_result"
    }
   ],
   "source": [
    "# 前5个数据\n",
    "movie_data.head()"
   ],
   "metadata": {
    "collapsed": false,
    "pycharm": {
     "name": "#%%\n"
    }
   }
  },
  {
   "cell_type": "code",
   "execution_count": 26,
   "outputs": [
    {
     "data": {
      "text/plain": "         Unnamed: 0   IMDb-rating             id\ncount  20548.000000  19707.000000   20548.000000\nmean   10273.500000      5.762151  222351.199776\nstd     5931.841001      1.374041  138422.327931\nmin        0.000000      1.100000       1.000000\n25%     5136.750000      4.800000   96122.250000\n50%    10273.500000      5.700000  264457.500000\n75%    15410.250000      6.600000  354561.250000\nmax    20547.000000      9.900000  372092.000000",
      "text/html": "<div>\n<style>\n    .dataframe thead tr:only-child th {\n        text-align: right;\n    }\n\n    .dataframe thead th {\n        text-align: left;\n    }\n\n    .dataframe tbody tr th {\n        vertical-align: top;\n    }\n</style>\n<table border=\"1\" class=\"dataframe\">\n  <thead>\n    <tr style=\"text-align: right;\">\n      <th></th>\n      <th>Unnamed: 0</th>\n      <th>IMDb-rating</th>\n      <th>id</th>\n    </tr>\n  </thead>\n  <tbody>\n    <tr>\n      <th>count</th>\n      <td>20548.000000</td>\n      <td>19707.000000</td>\n      <td>20548.000000</td>\n    </tr>\n    <tr>\n      <th>mean</th>\n      <td>10273.500000</td>\n      <td>5.762151</td>\n      <td>222351.199776</td>\n    </tr>\n    <tr>\n      <th>std</th>\n      <td>5931.841001</td>\n      <td>1.374041</td>\n      <td>138422.327931</td>\n    </tr>\n    <tr>\n      <th>min</th>\n      <td>0.000000</td>\n      <td>1.100000</td>\n      <td>1.000000</td>\n    </tr>\n    <tr>\n      <th>25%</th>\n      <td>5136.750000</td>\n      <td>4.800000</td>\n      <td>96122.250000</td>\n    </tr>\n    <tr>\n      <th>50%</th>\n      <td>10273.500000</td>\n      <td>5.700000</td>\n      <td>264457.500000</td>\n    </tr>\n    <tr>\n      <th>75%</th>\n      <td>15410.250000</td>\n      <td>6.600000</td>\n      <td>354561.250000</td>\n    </tr>\n    <tr>\n      <th>max</th>\n      <td>20547.000000</td>\n      <td>9.900000</td>\n      <td>372092.000000</td>\n    </tr>\n  </tbody>\n</table>\n</div>"
     },
     "execution_count": 26,
     "metadata": {},
     "output_type": "execute_result"
    }
   ],
   "source": [
    "# 查看数据极值、均值、方差等统计指标（包含五数概括）\n",
    "movie_data.describe()"
   ],
   "metadata": {
    "collapsed": false,
    "pycharm": {
     "name": "#%%\n"
    }
   }
  },
  {
   "cell_type": "code",
   "execution_count": 27,
   "outputs": [
    {
     "name": "stdout",
     "output_type": "stream",
     "text": [
      "<class 'pandas.core.frame.DataFrame'>\n",
      "RangeIndex: 20548 entries, 0 to 20547\n",
      "Data columns (total 15 columns):\n",
      "Unnamed: 0         20548 non-null int64\n",
      "IMDb-rating        19707 non-null float64\n",
      "appropriate_for    11072 non-null object\n",
      "director           18610 non-null object\n",
      "downloads          20547 non-null object\n",
      "id                 20548 non-null int64\n",
      "industry           20547 non-null object\n",
      "language           20006 non-null object\n",
      "posted_date        20547 non-null object\n",
      "release_date       20547 non-null object\n",
      "run_time           18780 non-null object\n",
      "storyline          18847 non-null object\n",
      "title              20547 non-null object\n",
      "views              20547 non-null object\n",
      "writer             18356 non-null object\n",
      "dtypes: float64(1), int64(2), object(12)\n",
      "memory usage: 2.4+ MB\n"
     ]
    }
   ],
   "source": [
    "# 数据的类型和数据量\n",
    "movie_data.info()"
   ],
   "metadata": {
    "collapsed": false,
    "pycharm": {
     "name": "#%%\n"
    }
   }
  },
  {
   "cell_type": "code",
   "execution_count": 32,
   "outputs": [
    {
     "data": {
      "text/plain": "                 count  missing_rate  nunique  lost_count\nIMDb-rating      19707      0.040929       85         841\nappropriate_for  11072      0.461164       21        9476\ndirector         18610      0.094316     9672        1938\ndownloads        20547      0.000049    10625           1\nid               20548      0.000000    17086           0\nindustry         20547      0.000049       10           1\nlanguage         20006      0.026377     1168         542\nposted_date      20547      0.000049     4123           1\nrelease_date     20547      0.000049     4886           1\nrun_time         18780      0.086042      415        1768\nstoryline        18847      0.082782    15748        1701\ntitle            20547      0.000049    16572           1\nviews            20547      0.000049    16821           1\nwriter           18356      0.106677    13603        2192",
      "text/html": "<div>\n<style>\n    .dataframe thead tr:only-child th {\n        text-align: right;\n    }\n\n    .dataframe thead th {\n        text-align: left;\n    }\n\n    .dataframe tbody tr th {\n        vertical-align: top;\n    }\n</style>\n<table border=\"1\" class=\"dataframe\">\n  <thead>\n    <tr style=\"text-align: right;\">\n      <th></th>\n      <th>count</th>\n      <th>missing_rate</th>\n      <th>nunique</th>\n      <th>lost_count</th>\n    </tr>\n  </thead>\n  <tbody>\n    <tr>\n      <th>IMDb-rating</th>\n      <td>19707</td>\n      <td>0.040929</td>\n      <td>85</td>\n      <td>841</td>\n    </tr>\n    <tr>\n      <th>appropriate_for</th>\n      <td>11072</td>\n      <td>0.461164</td>\n      <td>21</td>\n      <td>9476</td>\n    </tr>\n    <tr>\n      <th>director</th>\n      <td>18610</td>\n      <td>0.094316</td>\n      <td>9672</td>\n      <td>1938</td>\n    </tr>\n    <tr>\n      <th>downloads</th>\n      <td>20547</td>\n      <td>0.000049</td>\n      <td>10625</td>\n      <td>1</td>\n    </tr>\n    <tr>\n      <th>id</th>\n      <td>20548</td>\n      <td>0.000000</td>\n      <td>17086</td>\n      <td>0</td>\n    </tr>\n    <tr>\n      <th>industry</th>\n      <td>20547</td>\n      <td>0.000049</td>\n      <td>10</td>\n      <td>1</td>\n    </tr>\n    <tr>\n      <th>language</th>\n      <td>20006</td>\n      <td>0.026377</td>\n      <td>1168</td>\n      <td>542</td>\n    </tr>\n    <tr>\n      <th>posted_date</th>\n      <td>20547</td>\n      <td>0.000049</td>\n      <td>4123</td>\n      <td>1</td>\n    </tr>\n    <tr>\n      <th>release_date</th>\n      <td>20547</td>\n      <td>0.000049</td>\n      <td>4886</td>\n      <td>1</td>\n    </tr>\n    <tr>\n      <th>run_time</th>\n      <td>18780</td>\n      <td>0.086042</td>\n      <td>415</td>\n      <td>1768</td>\n    </tr>\n    <tr>\n      <th>storyline</th>\n      <td>18847</td>\n      <td>0.082782</td>\n      <td>15748</td>\n      <td>1701</td>\n    </tr>\n    <tr>\n      <th>title</th>\n      <td>20547</td>\n      <td>0.000049</td>\n      <td>16572</td>\n      <td>1</td>\n    </tr>\n    <tr>\n      <th>views</th>\n      <td>20547</td>\n      <td>0.000049</td>\n      <td>16821</td>\n      <td>1</td>\n    </tr>\n    <tr>\n      <th>writer</th>\n      <td>18356</td>\n      <td>0.106677</td>\n      <td>13603</td>\n      <td>2192</td>\n    </tr>\n  </tbody>\n</table>\n</div>"
     },
     "execution_count": 32,
     "metadata": {},
     "output_type": "execute_result"
    }
   ],
   "source": [
    "cols = ['IMDb-rating', 'appropriate_for', 'director', 'downloads', 'id', 'industry', 'language', 'posted_date', 'release_date', 'run_time', 'storyline', 'title', 'views', 'writer']\n",
    "\n",
    "tmp = pd.DataFrame()\n",
    "tmp['count'] = movie_data[cols].count().values\n",
    "tmp['missing_rate'] = (movie_data.shape[0] - tmp['count']) / movie_data.shape[0]\n",
    "tmp['nunique'] = movie_data[cols].nunique().values\n",
    "tmp['lost_count'] = len(movie_data) - movie_data[cols].count().values\n",
    "tmp.index = cols\n",
    "tmp"
   ],
   "metadata": {
    "collapsed": false,
    "pycharm": {
     "name": "#%%\n"
    }
   }
  },
  {
   "cell_type": "markdown",
   "source": [
    "数据可视化\n",
    "      使用直方图、盒图等检查数据分布及离群点"
   ],
   "metadata": {
    "collapsed": false,
    "pycharm": {
     "name": "#%% md\n"
    }
   }
  },
  {
   "cell_type": "code",
   "execution_count": 39,
   "outputs": [
    {
     "data": {
      "text/plain": "<Figure size 432x288 with 1 Axes>",
      "image/png": "[encoded data removed]"
     },
     "metadata": {},
     "output_type": "display_data"
    }
   ],
   "source": [
    "import matplotlib.pyplot as plt\n",
    "data = pd.DataFrame(movie_data['IMDb-rating'])  # 读取数据\n",
    "data.plot.box(title=\"IMDb-rating Box\")  # 设置标题\n",
    "\n",
    "plt.grid(linestyle=\"--\", alpha=0.3)  # 绘制箱型图\n",
    "plt.show()"
   ],
   "metadata": {
    "collapsed": false,
    "pycharm": {
     "name": "#%%\n"
    }
   }
  },
  {
   "cell_type": "code",
   "execution_count": 63,
   "outputs": [
    {
     "data": {
      "text/plain": "(19707, 20548)"
     },
     "execution_count": 63,
     "metadata": {},
     "output_type": "execute_result"
    }
   ],
   "source": [
    "# 将有缺失值的数据直接删除，会导致数据量骤减\n",
    "movie_data_drop = movie_data['IMDb-rating'].dropna()\n",
    "len(movie_data_drop), len(movie_data)"
   ],
   "metadata": {
    "collapsed": false,
    "pycharm": {
     "name": "#%%\n"
    }
   }
  },
  {
   "cell_type": "code",
   "execution_count": 65,
   "outputs": [
    {
     "data": {
      "text/plain": "20548"
     },
     "execution_count": 65,
     "metadata": {},
     "output_type": "execute_result"
    }
   ],
   "source": [
    "# 用最高频率值来填补缺失值\n",
    "movie_data_fill = movie_data\n",
    "movie_data_fill['IMDb-rating'] = movie_data['IMDb-rating'].fillna(movie_data['IMDb-rating'].mode())\n",
    "len(movie_data_fill)"
   ],
   "metadata": {
    "collapsed": false,
    "pycharm": {
     "name": "#%%\n"
    }
   }
  },
  {
   "cell_type": "code",
   "execution_count": null,
   "outputs": [],
   "source": [],
   "metadata": {
    "collapsed": false,
    "pycharm": {
     "name": "#%%\n"
    }
   }
  }
 ],
 "metadata": {
  "kernelspec": {
   "display_name": "Python 3",
   "language": "python",
   "name": "python3"
  },
  "language_info": {
   "codemirror_mode": {
    "name": "ipython",
    "version": 2
   },
   "file_extension": ".py",
   "mimetype": "text/x-python",
   "name": "python",
   "nbconvert_exporter": "python",
   "pygments_lexer": "ipython2",
   "version": "2.7.6"
  }
 },
 "nbformat": 4,
 "nbformat_minor": 0
}